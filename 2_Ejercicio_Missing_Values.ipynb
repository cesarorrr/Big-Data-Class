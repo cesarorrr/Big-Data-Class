{
  "cells": [
    {
      "cell_type": "markdown",
      "metadata": {
        "id": "view-in-github",
        "colab_type": "text"
      },
      "source": [
        "<a href=\"https://colab.research.google.com/github/cesarorrr/Big-Data-Class/blob/main/2_Ejercicio_Missing_Values.ipynb\" target=\"_parent\"><img src=\"https://colab.research.google.com/assets/colab-badge.svg\" alt=\"Open In Colab\"/></a>"
      ]
    },
    {
      "cell_type": "code",
      "execution_count": null,
      "id": "a0ab3dcf",
      "metadata": {
        "colab": {
          "base_uri": "https://localhost:8080/",
          "height": 35
        },
        "id": "a0ab3dcf",
        "outputId": "3d92cf05-aa8f-44aa-9bb5-a277e48a58f0"
      },
      "outputs": [
        {
          "output_type": "execute_result",
          "data": {
            "text/plain": [
              "'\\n\\n@author: dmorenca\\n'"
            ],
            "application/vnd.google.colaboratory.intrinsic+json": {
              "type": "string"
            }
          },
          "metadata": {},
          "execution_count": 1
        }
      ],
      "source": [
        "\"\"\"\n",
        "\n",
        "@author: dmorenca\n",
        "\"\"\""
      ]
    },
    {
      "cell_type": "code",
      "execution_count": 1,
      "id": "de5bb8f8",
      "metadata": {
        "id": "de5bb8f8"
      },
      "outputs": [],
      "source": [
        "import pandas as pd\n",
        "import numpy as np"
      ]
    },
    {
      "cell_type": "code",
      "execution_count": 21,
      "id": "0e17b360",
      "metadata": {
        "id": "0e17b360"
      },
      "outputs": [],
      "source": [
        "# Crear un DataFrame de ejemplo con valores faltantes\n",
        "datos = {\n",
        "    'Nombre': ['Ana', 'Luis', 'Carlos', 'Marta', np.nan],\n",
        "    'Edad': [23, 25, np.nan, 30, 22],\n",
        "    'Ciudad': ['Madrid', 'Barcelona', 'Murcia', 'Sevilla', 'Bilbao'],\n",
        "    'Salario': [30000, 32000, 35000, np.nan, 28000]\n",
        "}\n",
        "\n",
        "df = pd.DataFrame(datos)"
      ]
    },
    {
      "cell_type": "code",
      "execution_count": 22,
      "id": "b79fd659",
      "metadata": {
        "id": "b79fd659",
        "colab": {
          "base_uri": "https://localhost:8080/"
        },
        "outputId": "1dfd2e07-e9f4-4b34-cd71-b1e2bd08cdbc"
      },
      "outputs": [
        {
          "output_type": "stream",
          "name": "stdout",
          "text": [
            "   Nombre  Edad     Ciudad  Salario\n",
            "0     Ana  23.0     Madrid  30000.0\n",
            "1    Luis  25.0  Barcelona  32000.0\n",
            "2  Carlos   NaN     Murcia  35000.0\n",
            "3   Marta  30.0    Sevilla      NaN\n",
            "4     NaN  22.0     Bilbao  28000.0\n"
          ]
        }
      ],
      "source": [
        "# Mostrar el DataFrame original con valores faltantes\n",
        "print(df)"
      ]
    },
    {
      "cell_type": "code",
      "execution_count": 23,
      "id": "5cba90e7",
      "metadata": {
        "colab": {
          "base_uri": "https://localhost:8080/"
        },
        "id": "5cba90e7",
        "outputId": "519867d7-5b0d-4eb1-bc3c-b2d477959d21"
      },
      "outputs": [
        {
          "output_type": "stream",
          "name": "stdout",
          "text": [
            "Nombre     1\n",
            "Edad       1\n",
            "Ciudad     0\n",
            "Salario    1\n",
            "dtype: int64\n"
          ]
        }
      ],
      "source": [
        "#Checking for missing values\n",
        "print(df.isna().sum())"
      ]
    },
    {
      "cell_type": "code",
      "execution_count": 24,
      "id": "9d058ace",
      "metadata": {
        "id": "9d058ace"
      },
      "outputs": [],
      "source": [
        "# Eliminar filas con valores faltantes\n",
        "df_dropna = df.dropna()"
      ]
    },
    {
      "cell_type": "code",
      "execution_count": 25,
      "id": "28aa93d1",
      "metadata": {
        "colab": {
          "base_uri": "https://localhost:8080/"
        },
        "id": "28aa93d1",
        "outputId": "8f232044-5018-424b-f6ad-fdd88d8471ee"
      },
      "outputs": [
        {
          "output_type": "stream",
          "name": "stdout",
          "text": [
            "  Nombre  Edad     Ciudad  Salario\n",
            "0    Ana  23.0     Madrid  30000.0\n",
            "1   Luis  25.0  Barcelona  32000.0\n"
          ]
        }
      ],
      "source": [
        "# Mostrar el DataFrame después de eliminar los valores faltantes\n",
        "print(df_dropna)"
      ]
    },
    {
      "cell_type": "code",
      "execution_count": 26,
      "id": "a1d7b1db",
      "metadata": {
        "colab": {
          "base_uri": "https://localhost:8080/"
        },
        "id": "a1d7b1db",
        "outputId": "1ef2ad9b-41b8-453d-ab2c-f0758c458af8"
      },
      "outputs": [
        {
          "output_type": "stream",
          "name": "stdout",
          "text": [
            "31000.0\n"
          ]
        }
      ],
      "source": [
        "# Imputar la mediana para los valores faltantes en 'Salario'\n",
        "\n",
        "# Calcular la mediana de la columna 'Salario'\n",
        "mediana_salario = df['Salario'].median()\n",
        "print(mediana_salario)\n",
        "# Imputar la mediana en los valores faltantes de la columna 'Salario'\n",
        "df['Salario'] = df['Salario'].fillna(mediana_salario)\n",
        "\n",
        "# print(df)"
      ]
    },
    {
      "cell_type": "code",
      "execution_count": 27,
      "id": "ce712e48",
      "metadata": {
        "colab": {
          "base_uri": "https://localhost:8080/"
        },
        "id": "ce712e48",
        "outputId": "480e8a24-2d3f-48fc-a2f2-bccaf59d5689"
      },
      "outputs": [
        {
          "output_type": "stream",
          "name": "stdout",
          "text": [
            "25.0\n"
          ]
        }
      ],
      "source": [
        "# Imputar la media para los valores faltantes en 'Edad'\n",
        "\n",
        "# Calcular la mediana de la columna 'Salario'\n",
        "media_edad = df['Edad'].mean()\n",
        "print(media_edad)\n",
        "# Imputar la mediana en los valores faltantes de la columna 'Salario'\n",
        "df['Edad'] = df['Edad'].fillna(media_edad)\n",
        "\n",
        "# print(df)"
      ]
    },
    {
      "cell_type": "code",
      "execution_count": 28,
      "id": "367fae68",
      "metadata": {
        "colab": {
          "base_uri": "https://localhost:8080/"
        },
        "id": "367fae68",
        "outputId": "2db220eb-615d-4a71-85c7-8eadfb44b833"
      },
      "outputs": [
        {
          "output_type": "stream",
          "name": "stdout",
          "text": [
            "   Nombre  Edad     Ciudad  Salario\n",
            "0     Ana  23.0     Madrid  30000.0\n",
            "1    Luis  25.0  Barcelona  32000.0\n",
            "2  Carlos  25.0     Murcia  35000.0\n",
            "3   Marta  30.0    Sevilla  31000.0\n",
            "4     NaN  22.0     Bilbao  28000.0\n"
          ]
        }
      ],
      "source": [
        "# Mostrar el DataFrame después de imputar valores\n",
        "print(df)"
      ]
    },
    {
      "cell_type": "code",
      "execution_count": 29,
      "id": "6d1991c9",
      "metadata": {
        "colab": {
          "base_uri": "https://localhost:8080/",
          "height": 210
        },
        "id": "6d1991c9",
        "outputId": "f35aa518-d75f-44f6-e09c-8cae7218790b"
      },
      "outputs": [
        {
          "output_type": "execute_result",
          "data": {
            "text/plain": [
              "Nombre     1\n",
              "Edad       0\n",
              "Ciudad     0\n",
              "Salario    0\n",
              "dtype: int64"
            ],
            "text/html": [
              "<div>\n",
              "<style scoped>\n",
              "    .dataframe tbody tr th:only-of-type {\n",
              "        vertical-align: middle;\n",
              "    }\n",
              "\n",
              "    .dataframe tbody tr th {\n",
              "        vertical-align: top;\n",
              "    }\n",
              "\n",
              "    .dataframe thead th {\n",
              "        text-align: right;\n",
              "    }\n",
              "</style>\n",
              "<table border=\"1\" class=\"dataframe\">\n",
              "  <thead>\n",
              "    <tr style=\"text-align: right;\">\n",
              "      <th></th>\n",
              "      <th>0</th>\n",
              "    </tr>\n",
              "  </thead>\n",
              "  <tbody>\n",
              "    <tr>\n",
              "      <th>Nombre</th>\n",
              "      <td>1</td>\n",
              "    </tr>\n",
              "    <tr>\n",
              "      <th>Edad</th>\n",
              "      <td>0</td>\n",
              "    </tr>\n",
              "    <tr>\n",
              "      <th>Ciudad</th>\n",
              "      <td>0</td>\n",
              "    </tr>\n",
              "    <tr>\n",
              "      <th>Salario</th>\n",
              "      <td>0</td>\n",
              "    </tr>\n",
              "  </tbody>\n",
              "</table>\n",
              "</div><br><label><b>dtype:</b> int64</label>"
            ]
          },
          "metadata": {},
          "execution_count": 29
        }
      ],
      "source": [
        "# Verificar los valores faltantes restantes\n",
        "df.isna().sum()"
      ]
    },
    {
      "cell_type": "code",
      "execution_count": 33,
      "id": "d7435670",
      "metadata": {
        "id": "d7435670"
      },
      "outputs": [],
      "source": [
        "# Imputar por subgrupo utilizando la mediana de 'Salario' por 'Ciudad'\n",
        "\n",
        "# Calcular la mediana de 'Salario' por 'Ciudad'\n",
        "medianas_por_ciudad = df.groupby('Ciudad')['Salario'].median()\n",
        "# Imputar los valores faltantes en 'Salario' usando la mediana por 'Ciudad'\n",
        "df['Salario'] = df.apply(\n",
        "    lambda row: medianas_por_ciudad[row['Ciudad']] if pd.isna(row['Salario']) and pd.notna(row['Ciudad']) else row['Salario'],\n",
        "    axis=1\n",
        ")"
      ]
    },
    {
      "cell_type": "code",
      "execution_count": 34,
      "id": "d65159c6",
      "metadata": {
        "colab": {
          "base_uri": "https://localhost:8080/"
        },
        "id": "d65159c6",
        "outputId": "5c9413a1-96ab-43d1-d4ad-af787331ae13"
      },
      "outputs": [
        {
          "output_type": "stream",
          "name": "stdout",
          "text": [
            "Ciudad\n",
            "Barcelona    32000.0\n",
            "Bilbao       28000.0\n",
            "Madrid       30000.0\n",
            "Murcia       35000.0\n",
            "Sevilla      31000.0\n",
            "Name: Salario, dtype: float64\n"
          ]
        }
      ],
      "source": [
        "print(medianas_por_ciudad)\n"
      ]
    },
    {
      "cell_type": "code",
      "execution_count": 35,
      "id": "ed837b25",
      "metadata": {
        "colab": {
          "base_uri": "https://localhost:8080/"
        },
        "id": "ed837b25",
        "outputId": "838bef7d-5c29-4172-c28c-deb2102872e3"
      },
      "outputs": [
        {
          "output_type": "stream",
          "name": "stdout",
          "text": [
            "   Nombre  Edad     Ciudad  Salario\n",
            "0     Ana  23.0     Madrid  30000.0\n",
            "1    Luis  25.0  Barcelona  32000.0\n",
            "2  Carlos  25.0     Murcia  35000.0\n",
            "3   Marta  30.0    Sevilla  31000.0\n",
            "4     NaN  22.0     Bilbao  28000.0\n"
          ]
        }
      ],
      "source": [
        "# Mostrar el DataFrame después de imputar por subgrupo\n",
        "print(df)"
      ]
    },
    {
      "cell_type": "code",
      "execution_count": 36,
      "id": "f7c11c25",
      "metadata": {
        "colab": {
          "base_uri": "https://localhost:8080/",
          "height": 210
        },
        "id": "f7c11c25",
        "outputId": "229617a4-22a2-488d-ba03-e7a5ed55faf2"
      },
      "outputs": [
        {
          "output_type": "execute_result",
          "data": {
            "text/plain": [
              "Nombre     1\n",
              "Edad       0\n",
              "Ciudad     0\n",
              "Salario    0\n",
              "dtype: int64"
            ],
            "text/html": [
              "<div>\n",
              "<style scoped>\n",
              "    .dataframe tbody tr th:only-of-type {\n",
              "        vertical-align: middle;\n",
              "    }\n",
              "\n",
              "    .dataframe tbody tr th {\n",
              "        vertical-align: top;\n",
              "    }\n",
              "\n",
              "    .dataframe thead th {\n",
              "        text-align: right;\n",
              "    }\n",
              "</style>\n",
              "<table border=\"1\" class=\"dataframe\">\n",
              "  <thead>\n",
              "    <tr style=\"text-align: right;\">\n",
              "      <th></th>\n",
              "      <th>0</th>\n",
              "    </tr>\n",
              "  </thead>\n",
              "  <tbody>\n",
              "    <tr>\n",
              "      <th>Nombre</th>\n",
              "      <td>1</td>\n",
              "    </tr>\n",
              "    <tr>\n",
              "      <th>Edad</th>\n",
              "      <td>0</td>\n",
              "    </tr>\n",
              "    <tr>\n",
              "      <th>Ciudad</th>\n",
              "      <td>0</td>\n",
              "    </tr>\n",
              "    <tr>\n",
              "      <th>Salario</th>\n",
              "      <td>0</td>\n",
              "    </tr>\n",
              "  </tbody>\n",
              "</table>\n",
              "</div><br><label><b>dtype:</b> int64</label>"
            ]
          },
          "metadata": {},
          "execution_count": 36
        }
      ],
      "source": [
        "# no mas missing values\n",
        "df.isna().sum()"
      ]
    },
    {
      "cell_type": "code",
      "execution_count": null,
      "id": "52b40855",
      "metadata": {
        "colab": {
          "base_uri": "https://localhost:8080/",
          "height": 140
        },
        "id": "52b40855",
        "outputId": "ce747c73-c3d9-473f-c21d-6aaef4892f6d"
      },
      "outputs": [
        {
          "output_type": "execute_result",
          "data": {
            "text/plain": [
              "'\\nEste código realiza varias operaciones para manejar los valores faltantes en un DataFrame llamado `df`. Aquí está la explicación paso a paso:\\n\\n1. **`cols_to_drop = df.columns[df.isna().sum() <= threshold]`**: Se crea una lista de columnas (`cols_to_drop`) que tienen un número de valores faltantes menor o igual que un umbral definido (`threshold`). Esto se hace verificando la suma de valores faltantes (`NaN`) en cada columna utilizando `df.isna().sum()`.\\n\\n2. **`df.dropna(subset=cols_to_drop, inplace=True)`**: Se eliminan las filas que contienen valores faltantes en las columnas identificadas en `cols_to_drop`. Esto se hace utilizando el método `dropna()` en el DataFrame `df`, con el parámetro `subset` establecido en las columnas seleccionadas.\\n\\n3. **`median_quantity = df[\\'Quantity\\'].median()`**: Se calcula la mediana de la columna \\'Quantity\\' y se asigna a la variable `median_quantity`.\\n\\n4. **`df[\\'Quantity\\'] = df[\\'Quantity\\'].fillna(median_quantity)`**: Se imputa la mediana calculada (`median_quantity`) en las celdas vacías de la columna \\'Quantity\\'.\\n\\n5. **`mean_price = df[\\'UnitPrice\\'].mean()`**: Se calcula la media de la columna \\'UnitPrice\\' y se asigna a la variable `mean_price`.\\n\\n6. **`df[\\'UnitPrice\\'] = df[\\'UnitPrice\\'].fillna(mean_price)`**: Se imputa la media calculada (`mean_price`) en las celdas vacías de la columna \\'UnitPrice\\'.\\n\\n7. **`df[\\'Quantity\\'] = df.groupby(\\'Product\\')[\\'Quantity\\'].transform(lambda x: x.fillna(x.median()))`**: Se imputa la mediana de \\'Quantity\\' agrupada por \\'Product\\'. Esto significa que para cada grupo de productos, se imputará la mediana de \\'Quantity\\' en las celdas vacías de ese grupo.\\n\\n8. **`df_dict = df.groupby(\\'Product\\')[\"Quantity\"].median().to_dict()`**: Se crea un diccionario (`df_dict`) que mapea cada producto a su mediana de \\'Quantity\\'. Esto puede ser útil para referencia futura.\\n\\n9. **`print(df.isna().sum())`**: Se imprime la suma de valores faltantes en el DataFrame para verificar que ya no hay valores faltantes.\\n\\nEn resumen, este código realiza operaciones para eliminar filas con valores faltantes, imputar valores faltantes utilizando la mediana y la media, y también imputar valores faltantes por subgrupo utilizando la mediana agrupada por ciertas características.\\n\\n'"
            ],
            "application/vnd.google.colaboratory.intrinsic+json": {
              "type": "string"
            }
          },
          "metadata": {},
          "execution_count": 4
        }
      ],
      "source": [
        "\"\"\"\n",
        "Este código realiza varias operaciones para manejar los valores faltantes en un DataFrame llamado `df`. Aquí está la explicación paso a paso:\n",
        "\n",
        "1. **Creación del DataFrame**: Se crea un DataFrame `df` que contiene columnas como 'Nombre', 'Edad', 'Ciudad' y 'Salario', incluyendo algunos valores faltantes (`NaN`).\n",
        "\n",
        "2. **Mostrar el DataFrame Original**: Se imprime el DataFrame original para visualizar los valores faltantes y su estructura.\n",
        "\n",
        "3. **Verificación de Valores Faltantes**: Se utiliza `df.isna().sum()` para contar y mostrar el número de valores faltantes en cada columna del DataFrame.\n",
        "\n",
        "4. **Eliminar Filas con Valores Faltantes**: Se eliminan las filas que contienen valores faltantes utilizando `df.dropna()`. Esto genera un nuevo DataFrame `df_dropna` sin las filas con `NaN`.\n",
        "\n",
        "5. **Calcular la Mediana de Salario**: Se calcula la mediana de la columna 'Salario' y se almacena en la variable `mediana_salario`. Esto se utiliza para imputar valores faltantes en esa columna.\n",
        "\n",
        "6. **Imputación de Salario**: Se imputan los valores faltantes en la columna 'Salario' utilizando la mediana calculada. Se emplea `fillna(mediana_salario)` para reemplazar los valores `NaN` en 'Salario'.\n",
        "\n",
        "7. **Calcular la Media de Edad**: Se calcula la media de la columna 'Edad' y se guarda en la variable `media_edad`. Esto es útil para imputar los valores faltantes en 'Edad'.\n",
        "\n",
        "8. **Imputación de Edad**: Similar al paso anterior, se imputa la media calculada de 'Edad' en los valores faltantes de esa columna usando `fillna(media_edad)`.\n",
        "\n",
        "9. **Mostrar el DataFrame Después de Imputaciones**: Se imprime el DataFrame `df` para verificar los cambios realizados y observar que los valores faltantes han sido imputados.\n",
        "\n",
        "10. **Verificación de Valores Faltantes Restantes**: Se vuelve a usar `df.isna().sum()` para comprobar si aún quedan valores faltantes en el DataFrame después de las imputaciones.\n",
        "\n",
        "11. **Imputación por Subgrupo Usando la Mediana de Salario por Ciudad**: Se calcula la mediana de 'Salario' agrupada por 'Ciudad' utilizando `df.groupby('Ciudad')['Salario'].median()`. Esto permite imputar los salarios en función de la ciudad correspondiente.\n",
        "\n",
        "12. **Imputación de Salario por Ciudad**: Se imputan los valores faltantes en 'Salario' usando la mediana calculada para cada ciudad. Se utiliza `df.apply()` junto con una función `lambda` para aplicar esta lógica a cada fila.\n",
        "\n",
        "13. **Mostrar la Mediana de Salario por Ciudad**: Se imprime el resultado de las medianas por ciudad para tener una referencia de los valores utilizados para la imputación.\n",
        "\n",
        "14. **Mostrar el DataFrame Después de Imputar por Subgrupo**: Finalmente, se imprime el DataFrame `df` después de realizar la imputación por subgrupo, mostrando el estado final del DataFrame.\n",
        "\n",
        "15. **Verificación de Valores Faltantes Finales**: Se utiliza `df.isna().sum()` una vez más para confirmar que no hay más valores faltantes en el DataFrame.\n",
        "\n",
        "En resumen, este código maneja los valores faltantes en un DataFrame a través de eliminación de filas, imputaciones utilizando medianas y medias, y también mediante la imputación de valores basados en subgrupos, mejorando así la calidad de los datos para análisis futuros.\n",
        "\"\"\"\n"
      ]
    }
  ],
  "metadata": {
    "jupytext": {
      "cell_metadata_filter": "-all",
      "encoding": "# -*- coding: utf-8 -*-",
      "main_language": "python",
      "notebook_metadata_filter": "-all"
    },
    "colab": {
      "provenance": [],
      "include_colab_link": true
    },
    "language_info": {
      "name": "python"
    },
    "kernelspec": {
      "name": "python3",
      "display_name": "Python 3"
    }
  },
  "nbformat": 4,
  "nbformat_minor": 5
}