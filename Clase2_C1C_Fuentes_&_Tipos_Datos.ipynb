{
  "nbformat": 4,
  "nbformat_minor": 0,
  "metadata": {
    "colab": {
      "provenance": [],
      "include_colab_link": true
    },
    "kernelspec": {
      "name": "python3",
      "display_name": "Python 3"
    },
    "language_info": {
      "name": "python"
    }
  },
  "cells": [
    {
      "cell_type": "markdown",
      "metadata": {
        "id": "view-in-github",
        "colab_type": "text"
      },
      "source": [
        "<a href=\"https://colab.research.google.com/github/cesarorrr/Clase2_C1C_Fuentes_-_Tipos_Datos/blob/Clase2_C1C_Fuentes_-_Tipos_Datos/Clase2_C1C_Fuentes_%26_Tipos_Datos.ipynb\" target=\"_parent\"><img src=\"https://colab.research.google.com/assets/colab-badge.svg\" alt=\"Open In Colab\"/></a>"
      ]
    },
    {
      "cell_type": "code",
      "execution_count": null,
      "metadata": {
        "colab": {
          "base_uri": "https://localhost:8080/"
        },
        "id": "KpgeA2wc_1cG",
        "outputId": "b55ed506-9697-4e14-c3b4-51ab8bf4e3c3"
      },
      "outputs": [
        {
          "output_type": "stream",
          "name": "stdout",
          "text": [
            "Ejemplo 1: Trabajando con Enteros\n",
            "El valor de 'numero_entero' es: 5\n",
            "El tipo de dato de 'numero_entero' es: <class 'int'>\n"
          ]
        }
      ],
      "source": [
        "# Tipos de Datos en Python\n",
        "\n",
        "# Bienvenidos a la lección sobre tipos de datos.\n",
        "# Vamos a ver los tipos de datos básicos en Python:\n",
        "# enteros (int), números con decimales (float), cadenas de texto (str), y booleanos (bool).\n",
        "\n",
        "# Ejemplo 1: Enteros\n",
        "print(\"Ejemplo 1: Trabajando con Enteros\")\n",
        "numero_entero = 5\n",
        "print(\"El valor de 'numero_entero' es:\", numero_entero)\n",
        "print(\"El tipo de dato de 'numero_entero' es:\", type(numero_entero))"
      ]
    },
    {
      "cell_type": "code",
      "source": [
        "\n",
        "# Ejercicio: Crea tu propio número entero y verifica su tipo\n",
        "mi_numero = 10  # Cambia este valor para practicar\n",
        "print(\"Tu número entero es:\", mi_numero)\n",
        "print(\"El tipo de dato es:\", type(mi_numero))\n",
        "\n",
        "print(\"\\n---------------------------------------\\n\")"
      ],
      "metadata": {
        "colab": {
          "base_uri": "https://localhost:8080/"
        },
        "id": "GbqPKvWeEYcv",
        "outputId": "3b53b0a4-614b-4ac3-cfa5-a41c87ec268d"
      },
      "execution_count": null,
      "outputs": [
        {
          "output_type": "stream",
          "name": "stdout",
          "text": [
            "Tu número entero es: 10\n",
            "El tipo de dato es: <class 'int'>\n",
            "\n",
            "---------------------------------------\n",
            "\n"
          ]
        }
      ]
    },
    {
      "cell_type": "code",
      "source": [
        "\n",
        "# Ejemplo 2: Flotantes (números con decimales)\n",
        "print(\"Ejemplo 2: Trabajando con Flotantes\")\n",
        "numero_flotante = 3.14\n",
        "print(\"El valor de 'numero_flotante' es:\", numero_flotante)\n",
        "print(\"El tipo de dato de 'numero_flotante' es:\", type(numero_flotante))"
      ],
      "metadata": {
        "colab": {
          "base_uri": "https://localhost:8080/"
        },
        "id": "JkupwNzQEiLc",
        "outputId": "156a9d99-28b4-4d2f-8c1e-c01d941c27c8"
      },
      "execution_count": null,
      "outputs": [
        {
          "output_type": "stream",
          "name": "stdout",
          "text": [
            "Ejemplo 2: Trabajando con Flotantes\n",
            "El valor de 'numero_flotante' es: 3.14\n",
            "El tipo de dato de 'numero_flotante' es: <class 'float'>\n"
          ]
        }
      ]
    },
    {
      "cell_type": "code",
      "source": [
        "# Ejercicio: Crea tu propio número flotante y verifica su tipo\n",
        "mi_flotante = 9.81  # Cambia este valor para practicar\n",
        "print(\"Tu número flotante es:\", mi_flotante)\n",
        "print(\"El tipo de dato es:\", type(mi_flotante))\n",
        "\n",
        "print(\"\\n---------------------------------------\\n\")"
      ],
      "metadata": {
        "colab": {
          "base_uri": "https://localhost:8080/"
        },
        "id": "MwuLBonnEq8S",
        "outputId": "b0a2a88e-fdab-4325-fcdd-333b5c3dd291"
      },
      "execution_count": null,
      "outputs": [
        {
          "output_type": "stream",
          "name": "stdout",
          "text": [
            "Tu número flotante es: 9.81\n",
            "El tipo de dato es: <class 'float'>\n",
            "\n",
            "---------------------------------------\n",
            "\n"
          ]
        }
      ]
    },
    {
      "cell_type": "code",
      "source": [
        "# Ejemplo 3: Cadenas de Texto (Strings)\n",
        "print(\"Ejemplo 3: Trabajando con Cadenas de Texto\")\n",
        "texto = \"¡Hola, estudiantes!\"\n",
        "print(\"El valor de 'texto' es:\", texto)\n",
        "print(\"El tipo de dato de 'texto' es:\", type(texto))"
      ],
      "metadata": {
        "colab": {
          "base_uri": "https://localhost:8080/"
        },
        "id": "qXKIMgGIE9ql",
        "outputId": "1e5889ce-85e7-4301-8d78-3d50515fc844"
      },
      "execution_count": null,
      "outputs": [
        {
          "output_type": "stream",
          "name": "stdout",
          "text": [
            "Ejemplo 3: Trabajando con Cadenas de Texto\n",
            "El valor de 'texto' es: ¡Hola, estudiantes!\n",
            "El tipo de dato de 'texto' es: <class 'str'>\n"
          ]
        }
      ]
    },
    {
      "cell_type": "code",
      "source": [
        "# Ejercicio: Crea tu propia cadena de texto y verifica su tipo\n",
        "mi_texto = \"Estoy aprendiendo tipos de datos\"  # Cambia este valor para practicar\n",
        "print(\"Tu texto es:\", mi_texto)\n",
        "print(\"El tipo de dato es:\", type(mi_texto))\n",
        "\n",
        "print(\"\\n---------------------------------------\\n\")"
      ],
      "metadata": {
        "colab": {
          "base_uri": "https://localhost:8080/"
        },
        "id": "tcHGqHPzFCLn",
        "outputId": "30131284-5a19-45ed-832c-92d08ff36946"
      },
      "execution_count": null,
      "outputs": [
        {
          "output_type": "stream",
          "name": "stdout",
          "text": [
            "Tu texto es: Estoy aprendiendo tipos de datos\n",
            "El tipo de dato es: <class 'str'>\n",
            "\n",
            "---------------------------------------\n",
            "\n"
          ]
        }
      ]
    },
    {
      "cell_type": "code",
      "source": [
        "# Ejemplo 4: Booleanos (Verdadero o Falso)\n",
        "print(\"Ejemplo 4: Trabajando con Booleanos\")\n",
        "es_estudiante = True\n",
        "print(\"El valor de 'es_estudiante' es:\", es_estudiante)\n",
        "print(\"El tipo de dato de 'es_estudiante' es:\", type(es_estudiante))"
      ],
      "metadata": {
        "colab": {
          "base_uri": "https://localhost:8080/"
        },
        "id": "FyjCpfdlFGUP",
        "outputId": "8412a92a-8afb-4370-a17d-e31efc8be954"
      },
      "execution_count": null,
      "outputs": [
        {
          "output_type": "stream",
          "name": "stdout",
          "text": [
            "Ejemplo 4: Trabajando con Booleanos\n",
            "El valor de 'es_estudiante' es: True\n",
            "El tipo de dato de 'es_estudiante' es: <class 'bool'>\n"
          ]
        }
      ]
    },
    {
      "cell_type": "code",
      "source": [
        "# Ejercicio: Crea tu propio valor booleano y verifica su tipo\n",
        "mi_booleano = False  # Cambia este valor para practicar\n",
        "print(\"Tu valor booleano es:\", mi_booleano)\n",
        "print(\"El tipo de dato es:\", type(mi_booleano))\n",
        "\n",
        "print(\"\\n---------------------------------------\\n\")"
      ],
      "metadata": {
        "colab": {
          "base_uri": "https://localhost:8080/"
        },
        "id": "yYjZxnDeFJP7",
        "outputId": "891ecdc5-d0b2-4f35-8c59-481fe1cca33c"
      },
      "execution_count": null,
      "outputs": [
        {
          "output_type": "stream",
          "name": "stdout",
          "text": [
            "Tu valor booleano es: False\n",
            "El tipo de dato es: <class 'bool'>\n",
            "\n",
            "---------------------------------------\n",
            "\n"
          ]
        }
      ]
    },
    {
      "cell_type": "code",
      "source": [
        "# Ejercicio final: Identificando tipos de datos\n",
        "# Observa las siguientes variables e intenta adivinar su tipo de dato antes de ejecutar el código.\n",
        "print(\"Ejercicio Final: Identificando tipos de datos\")\n",
        "variable1 = 100\n",
        "variable2 = 12.34\n",
        "variable3 = \"Python es divertido\"\n",
        "variable4 = False\n",
        "\n",
        "print(\"El valor de 'variable1' es:\", variable1, \"y su tipo de dato es:\", type(variable1))\n",
        "print(\"El valor de 'variable2' es:\", variable2, \"y su tipo de dato es:\", type(variable2))\n",
        "print(\"El valor de 'variable3' es:\", variable3, \"y su tipo de dato es:\", type(variable3))\n",
        "print(\"El valor de 'variable4' es:\", variable4, \"y su tipo de dato es:\", type(variable4))"
      ],
      "metadata": {
        "colab": {
          "base_uri": "https://localhost:8080/"
        },
        "id": "HoR8pdxuFJxd",
        "outputId": "b9bef5d1-9b12-4586-eb3b-13b0bfc93b86"
      },
      "execution_count": null,
      "outputs": [
        {
          "output_type": "stream",
          "name": "stdout",
          "text": [
            "Ejercicio Final: Identificando tipos de datos\n",
            "El valor de 'variable1' es: 100 y su tipo de dato es: <class 'int'>\n",
            "El valor de 'variable2' es: 12.34 y su tipo de dato es: <class 'float'>\n",
            "El valor de 'variable3' es: Python es divertido y su tipo de dato es: <class 'str'>\n",
            "El valor de 'variable4' es: False y su tipo de dato es: <class 'bool'>\n"
          ]
        }
      ]
    }
  ]
}